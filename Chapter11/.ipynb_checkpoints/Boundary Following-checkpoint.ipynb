{
 "cells": [
  {
   "cell_type": "markdown",
   "metadata": {},
   "source": [
    "# Boundary (Border) Following"
   ]
  },
  {
   "cell_type": "markdown",
   "metadata": {},
   "source": [
    "## 1.背景"
   ]
  },
  {
   "cell_type": "markdown",
   "metadata": {},
   "source": [
    "经过一些图像处理技术，比如图像分割，之后，像素点被分割成一些区域，为了进一步的分析，为了便于计算机的处理，需要将区域（对象）的边界找到并且按照一定的顺序排列，比如顺时针或者逆时针。\n",
    "\n",
    "---\n",
    "\n",
    "\n",
    "\n",
    "\n",
    "Input: A square tessellation, T, containing a connected component P of black cells.\n",
    "Output:A sequence B (b1, b2 ,..., bk) of boundary pixels i.e. the contour.\n",
    "\n",
    "对象的值是1，背景为0，只考虑二值图像。为了消除目标对象在边界上的问题，人为的使用0填充边界。\n",
    "\n",
    "参考：[Moore-Neighbor Tracing)](http://www.imageprocessingplace.com/downloads_V3/root_downloads/tutorials/contour_tracing_Abeer_George_Ghuneim/moore.html)"
   ]
  },
  {
   "cell_type": "markdown",
   "metadata": {},
   "source": [
    "## 2.解答"
   ]
  },
  {
   "cell_type": "markdown",
   "metadata": {},
   "source": [
    "### 2.1 问题分析\n",
    "1. 边缘点有什么特点\n",
    "2. 一个点和下一个相邻点之间的关系，如何表示\n",
    "3. 如何设置初始和结束条件，从哪里开始，边界是一个圆形的\n",
    "\n"
   ]
  },
  {
   "cell_type": "markdown",
   "metadata": {},
   "source": [
    "### 2.2现有算法\n",
    "1. 考虑到图像坐标的方向性，选择对象最上面最左端的点为起始点，记为b0。然后，将其左侧的背景点记为c0点，因为b0点的假设，所以b0左侧一定是背景点。\n",
    "2. 从c0开始，按照顺时针的方式考察b0的8个邻点，令b1为所遇到的值为1的第一个邻点，并且令找到b1之前考察的点（背景点）为c1。存储b0和b1的位置。\n",
    "3. （准备开始迭代）令b=b1，c=c1.（b，c用于存放当前考察的边界点和背景点的位置）\n",
    "4. 与步骤1中类似的步骤，从c开始按照顺时针方向进行，令b的8个邻点为n1,n2,...,n8。找到标为1的第一个nk。\n",
    "5. (更新数据)令b=nk，c=nk_1(k-1的意思）。\n",
    "6. 重复步骤4和5，直到b=b0且找到的下一个边界点是b1。\n",
    "\n",
    "### 2.3算法实现"
   ]
  },
  {
   "cell_type": "code",
   "execution_count": 1,
   "metadata": {},
   "outputs": [],
   "source": [
    "import numpy as np\n",
    "# 首先写一个边界扩充的函数,输入时np的二位矩阵，输出时将边界扩充一个空白像素的矩阵\n",
    "def boundary_exten(A):\n",
    "    B = np.zeros((A.shape[0]+1,A.shape[1]))\n",
    "    for i in range(1, A.shape[0]):\n",
    "        for j in range(1, A.shape[1]):\n",
    "            B[i,j] = A[i-1, j-1]\n",
    "    return B\n",
    "\n",
    "# 寻找最上方最左边的对象像素点\n",
    "# 输入是np二位矩阵，输出为上左方的点的坐标b0\n",
    "def search_upperleft(A):\n",
    "    for i in range(A.shape[0]):\n",
    "        for j in range(A.shape[1]):\n",
    "            if A[i, j] == 1:\n",
    "                return (i, j)\n",
    "\n",
    "\n",
    "# 围绕着b，从c开始按照顺时针方向寻找下一个b和c点\n",
    "# 输入二位矩阵 A，b， c的位置\n",
    "# 输出b，c的位置； 没有找到的话打印\"NOT FOUND\"并返回None\n",
    "def boundary_trace(A, b, c):\n",
    "    # 考虑先按照顺时针找到b的8邻域,从左上角开始记为0，然后将c进行对照\n",
    "    b_8_neighbors = [(b[0]-1,b[1]-1),(b[0]-1,b[1]),(b[0]-1,b[1]+1),\\\n",
    "                     (b[0],b[1]+1), (b[0]+1,b[1]+1),(b[0]+1,b[1]),\\\n",
    "                     (b[0]+1,b[1]-1),(b[0],b[1]-1),]\n",
    "    #print(\"b_8_neighbors : \", b_8_neighbors)\n",
    "    position_c = b_8_neighbors.index(c)\n",
    "    #print(\"position_c : \", position_c)\n",
    "    for j in range(position_c+1, position_c+9):\n",
    "        if j >=8:\n",
    "            j = j - 8\n",
    "        # print(\"j is :\", j)\n",
    "        if A[b_8_neighbors[j]] == 1:\n",
    "            #print(\"b_8_neighbors[j]: \", b_8_neighbors[j])\n",
    "            #print(A[b_8_neighbors[j]])\n",
    "            #print(\"j is \", j)\n",
    "            return b_8_neighbors[j], b_8_neighbors[j-1]  \n",
    "        \n",
    "# 把找到的边界坐标还原成原图中的坐标\n",
    "# 输入：由元组坐标点组成的列表\n",
    "# 输出：原图中的坐标点元组的列表\n",
    "def boudary2original(B):\n",
    "    A =[]\n",
    "    for i in range(len(B)):\n",
    "        A.append((B[i][0]-1, B[i][1]))\n",
    "    return A\n",
    "        "
   ]
  },
  {
   "cell_type": "code",
   "execution_count": 2,
   "metadata": {},
   "outputs": [],
   "source": [
    "# 主程序\n",
    "def boundary_following(A):\n",
    "    # 定义一个列表B来存放找到的边界b\n",
    "    B = []\n",
    "    # 先进行边界扩充\n",
    "    A_exten = boundary_exten(A)\n",
    "    # 寻找b0， 和c0\n",
    "    b0 =  search_upperleft(A_exten)\n",
    "    #print(\"b0: \", b0)\n",
    "    B.append(b0)\n",
    "    c0 = (b0[0],b0[1]-1)\n",
    "    #print(\"c0 : \",c0)\n",
    "    # 顺时针寻找下一个b1和c1\n",
    "    b, c = boundary_trace(A_exten, b0, c0) \n",
    "    #print(\"b1: \", b)\n",
    "    #print(\"c1: \", c)\n",
    "    B.append(b)\n",
    "    while 1:\n",
    "        b, c = boundary_trace(A_exten, b, c)\n",
    "        B.append(b)\n",
    "        #print(\"b: \", b)\n",
    "        #print(\"c: \", c)\n",
    "        #print(\"B is :\", B)\n",
    "        if b == B[1] and B[1] == B[-1]:\n",
    "            break \n",
    "    # 把坐标还原成原图坐标\n",
    "    B_original = boudary2original(B) \n",
    "    # 是加上了边界的坐标\n",
    "    return B_original      "
   ]
  },
  {
   "cell_type": "code",
   "execution_count": 6,
   "metadata": {},
   "outputs": [
    {
     "name": "stdout",
     "output_type": "stream",
     "text": [
      "[[0. 0. 0. 0. 0. 0. 0. 0. 0. 0.]\n",
      " [0. 0. 0. 0. 0. 0. 0. 0. 0. 0.]\n",
      " [0. 0. 0. 0. 0. 0. 0. 0. 0. 0.]\n",
      " [0. 0. 0. 0. 0. 0. 0. 0. 0. 0.]\n",
      " [0. 0. 0. 0. 0. 1. 1. 1. 0. 0.]\n",
      " [0. 0. 0. 0. 0. 1. 1. 1. 0. 0.]\n",
      " [0. 0. 0. 0. 0. 1. 1. 1. 0. 0.]\n",
      " [0. 0. 0. 0. 0. 1. 1. 1. 0. 0.]\n",
      " [0. 0. 0. 0. 0. 0. 0. 0. 0. 0.]\n",
      " [0. 0. 0. 0. 0. 0. 0. 0. 0. 0.]]\n",
      "[(4, 6), (4, 7), (4, 8), (5, 8), (6, 8), (7, 8), (7, 7), (7, 6), (6, 6), (5, 6), (4, 6), (4, 7)]\n"
     ]
    }
   ],
   "source": [
    "# Test\n",
    "A = np.zeros((10, 10))\n",
    "A[4:8, 5:8] = 1\n",
    "print(A)\n",
    "print(boundary_following(A))"
   ]
  }
 ],
 "metadata": {
  "kernelspec": {
   "display_name": "Python 3",
   "language": "python",
   "name": "python3"
  },
  "language_info": {
   "codemirror_mode": {
    "name": "ipython",
    "version": 3
   },
   "file_extension": ".py",
   "mimetype": "text/x-python",
   "name": "python",
   "nbconvert_exporter": "python",
   "pygments_lexer": "ipython3",
   "version": "3.7.3"
  }
 },
 "nbformat": 4,
 "nbformat_minor": 4
}
